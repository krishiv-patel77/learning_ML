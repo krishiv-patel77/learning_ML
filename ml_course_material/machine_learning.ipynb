{
 "cells": [
  {
   "cell_type": "markdown",
   "id": "fbe4cf30",
   "metadata": {
    "jp-MarkdownHeadingCollapsed": true
   },
   "source": [
    "### Notation\n",
    "Here is a summary of some of the notation you will encounter.  \n",
    "\n",
    "|General <img width=70/> <br />  Notation  <img width=70/> | Description<img width=350/>| Python (if applicable) |\n",
    "|: ------------|: ------------------------------------------------------------||\n",
    "| $a$ | scalar, non bold                                                      ||\n",
    "| $\\mathbf{a}$ | vector, bold                                                      ||\n",
    "| **Regression** |         |    |     |\n",
    "|  $\\mathbf{x}$ | Training Example feature values (in this lab - Size (1000 sqft))  | `x_train` |   \n",
    "|  $\\mathbf{y}$  | Training Example  targets (in this lab Price (1000s of dollars))  | `y_train` \n",
    "|  $x^{(i)}$, $y^{(i)}$ | $i_{th}$Training Example | `x_i`, `y_i`|\n",
    "| m | Number of training examples | `m`|\n",
    "|  $w$  |  parameter: weight                                 | `w`    |\n",
    "|  $b$           |  parameter: bias                                           | `b`    |     \n",
    "| $f_{w,b}(x^{(i)})$ | The result of the model evaluation at $x^{(i)}$ parameterized by $w,b$: $f_{w,b}(x^{(i)}) = wx^{(i)}+b$  | `f_wb` | \n"
   ]
  },
  {
   "cell_type": "markdown",
   "id": "b682ac87",
   "metadata": {
    "jp-MarkdownHeadingCollapsed": true
   },
   "source": [
    "# Cost Functions"
   ]
  },
  {
   "cell_type": "markdown",
   "id": "82d69447",
   "metadata": {},
   "source": [
    "Cost functions take the model, or f(x) with certain parameters, or coefficients and evalute how the given parameters fit with the data. \n",
    "\n",
    "Minimizing the cost function will lead to the parameters for the model with the least error for the given dataset leading to the best future predictions of y-hat given the current targets. \n",
    "\n",
    "The process of minimizing the cost function is called gradient descent. \n",
    "\n",
    "There are different cost functions for different scenarios. Regression algorithms have MSE and other cost functions to calculate the error of the given parameters in relation to the training set. \n",
    "\n",
    "Classification algorithms and other unsupervised algorithms also have their own respective cost functions used to calculate the error. \n",
    "\n",
    "In order to find the minimum cost function value, you use gradient descent instead of manually testing each possible parameter which is not possible for more complex datasets and cost functions. \n",
    "\n",
    "Gradient descent represents the process used to get to the smallest hill in the topology of a cost function with more than one parameter on the 3D graph. "
   ]
  },
  {
   "cell_type": "markdown",
   "id": "49fbb871",
   "metadata": {},
   "source": [
    "# Gradient Descent"
   ]
  },
  {
   "cell_type": "markdown",
   "id": "518f0682",
   "metadata": {},
   "source": [
    "Gradient descent is the process of taking baby steps to get to the lowest valley on a cost function topology map. \n",
    "\n",
    "Imagine a complex topology map for a function that intakes multiple inputs. Gradient descent works not only for linear regression but for any regression with any number of inputs. \n",
    "\n",
    "In order to start the process of gradient descent, you pick arbitrary values for the parameters in the cost function. This will put you at some random point on the topology of the map of the gradient descent function. Your goal, imagining the topology as a set of hills and valleys, is to get to the lowest valley with the least amount of steps. \n",
    "\n",
    "At that arbitrary point on the topology, you look around and pick the steepest descent point around you. This is called the point of steepest descent. \n",
    "\n",
    "You do this enough times to the point where you get to the bottom of the cloest valley to the arbitrary point you chose. This represents a local minima, but does not represent the absolute minimum of the cost function. \n",
    "\n",
    "For a function J(w, ... , b) that is not linear, know that when you take the partial derivative of the function with respect to one variable, it will not be a parabola like with the linear regression cost function. As a result, on the 2D graph of the partial parameter on the horizontal axis and the cost function on the vertical axis, there will be multiple minimum and as a result, the starting value of the parameter matters as you might get a local minima instead of the absolute minima of the 2D graph. \n",
    "\n",
    "Assuming the cost function is linear and we have a 2D parabola with J(w,b) on the y-axis and w on the x-axis, we can use the gradient descent algorithm to find the minimum of the cost function. \n",
    "\n",
    "Algorithm:\n",
    "-> w = w - a(pd(J(w,b))\n",
    "-> b = b - a(pd(J(w,b)) \n",
    "    \n",
    "    **Note:** The new values for w and b must be assigned simultaneously therefore you need a temp variable for each one. \n",
    "    \n",
    "This works because if w is greater than the minimum, the derivative will be positive and therefore you will be subtracting a positive value after multiplying the derivative with alpha from the original w and that will cause w to shrink until the derivative becomes 0 at the minimum point. \n",
    "\n",
    "On the other hand, if the w value is smaller than the w value for the minimum of the cost function, then you will be subtracting a negative value from the current w value as the derivative will be downward sloping. As a result, subtracting a negative number means adding a positive number so the current w value will increase until it is at the minimum of the graph. \n",
    "\n",
    "\n"
   ]
  },
  {
   "cell_type": "markdown",
   "id": "c314693b-5169-4fa1-b6cd-6fed98e98ba5",
   "metadata": {},
   "source": [
    "# Supervised Learning"
   ]
  },
  {
   "cell_type": "markdown",
   "id": "4b0333b7-0c72-4710-9caa-4574e12f47be",
   "metadata": {},
   "source": [
    ">Supervised learning refers to giving a certain dataset of values with “correct” or known outputs to a machine learning algorithm which will then use those known/correct answers to each input in order to develop a model to predict future values. "
   ]
  },
  {
   "cell_type": "markdown",
   "id": "e09cd3a9-6f45-466f-8524-de4f8cf3f4d4",
   "metadata": {},
   "source": [
    "## Regression"
   ]
  },
  {
   "cell_type": "markdown",
   "id": "5be501e3-3f5b-403d-93f5-c289c490f43f",
   "metadata": {},
   "source": [
    ">Regression refers to the relation between x and y and how given x, the computer must predict y based on the known y-values given out of an infinite possibilities of numbers. Essentially, a regression works like a function f(x) where you are given an independent variable x and asked to predict a y-value and if f(x) is not defined, that y-value can have infinite possibilities. This is exactly the case when giving data to a machine learning model. F(x) for that data is not defined. Therefore, the machine learning model must define its own f(x) to learn from the inputs and outputs given to produce a function that can take in any input and predict the output. "
   ]
  },
  {
   "cell_type": "markdown",
   "id": "4386e210",
   "metadata": {},
   "source": [
    "### Cost Function for Regression: MSE"
   ]
  },
  {
   "cell_type": "markdown",
   "id": "0cce7d31",
   "metadata": {},
   "source": [
    "MSE -> Mean Squared Errors\n",
    "- It is the summation of the square of the difference between y-hat and y from i=0 to m divided by the total number of training examples m. \n",
    "- Will give a number that indicates the degree to which the predicted values y-hat deviate from the target values y.\n",
    "- Can be used for linear and polynomial regression. Usually, it can be used for any regression algorithm. "
   ]
  },
  {
   "cell_type": "markdown",
   "id": "fa340bef-c73c-4135-9c27-a13f01a8a372",
   "metadata": {},
   "source": [
    "### Linear Regression"
   ]
  },
  {
   "cell_type": "markdown",
   "id": "1a4a6d20-0469-4d92-80e5-b69c463821bf",
   "metadata": {},
   "source": [
    "Easy Linear Regression Algorithm using Scipy"
   ]
  },
  {
   "cell_type": "code",
   "execution_count": 18,
   "id": "5021330a-c439-405d-8f18-26c0f6833501",
   "metadata": {},
   "outputs": [
    {
     "name": "stdout",
     "output_type": "stream",
     "text": [
      "0.9598758089102879\n"
     ]
    },
    {
     "data": {
      "image/png": "[encoded data removed]",
      "text/plain": [
       "<Figure size 640x480 with 1 Axes>"
      ]
     },
     "metadata": {},
     "output_type": "display_data"
    }
   ],
   "source": [
    "from scipy import stats\n",
    "import matplotlib.pyplot as plt\n",
    "import numpy\n",
    "import pandas\n",
    "\n",
    "df = pd.read_csv(r\"C:\\Users\\Krishiv\\Documents\\GitHub\\Jupyter_2\\linear_regression_dataset1.csv\")\n",
    "\n",
    "x = list(df[\"X\"])\n",
    "y = list(df[\"Y\"])\n",
    "\n",
    "slope, intercept, r, p, str_err = stats.linregress(x,y)\n",
    "\n",
    "#this is also the function that can predict future values of x, the independent variable, and give the value of y based on the data.\n",
    "#However, the accuracy of the prediction depends on r, the Pearson Correlation Coefficient. \n",
    "#The closer r is to either -1 or 1, the higher the accuracy of the prediction \n",
    "def mapper(x):\n",
    "    return slope*x + intercept\n",
    "\n",
    "\n",
    "y_linear = list(map(mapper,x))\n",
    "#need to convert to list because map will not return one by default and plt.plot only takes in lists\n",
    "\n",
    "plt.scatter(x,y)\n",
    "plt.plot(x, y_linear)\n",
    "print(r)\n",
    "#the r-value is very low in the negative direction indicating that the dataset is not very linearly related"
   ]
  },
  {
   "cell_type": "markdown",
   "id": "fc0c25ac-5f7b-4f2f-983a-61013c3dd0b0",
   "metadata": {},
   "source": [
    "#### Linear Regression From Scratch using Gradient Descent"
   ]
  },
  {
   "cell_type": "code",
   "execution_count": 23,
   "id": "86cf7e48-601e-4bba-80a5-81f9de385d65",
   "metadata": {},
   "outputs": [
    {
     "data": {
      "image/png": "[encoded data removed]",
      "text/plain": [
       "<Figure size 640x480 with 1 Axes>"
      ]
     },
     "metadata": {},
     "output_type": "display_data"
    }
   ],
   "source": [
    "import matplotlib.pyplot as plt\n",
    "import pandas as pd\n",
    "\n",
    "w = 0.0\n",
    "b = 0.0\n",
    "\n",
    "def main():\n",
    "\n",
    "    global w\n",
    "    global b\n",
    "\n",
    "    df = pd.read_csv(r\"C:\\Users\\Krishiv\\Documents\\GitHub\\Jupyter_2\\linear_regression_dataset1.csv\")\n",
    "\n",
    "    features = list(df[\"X\"])\n",
    "    targets = list(df[\"Y\"])\n",
    "\n",
    "    m = len(features)\n",
    "\n",
    "    new_w, new_b = gradient_descent(m, features, targets, w, b)\n",
    "\n",
    "    w = new_w\n",
    "    b = new_b\n",
    "\n",
    "    y_hat = list(map(mapper, features))\n",
    "\n",
    "    plt.scatter(features, targets)\n",
    "    plt.plot(features, y_hat)\n",
    "    plt.show()\n",
    "\n",
    "def mapper(x):\n",
    "    return w*x + b\n",
    "\n",
    "def gradient_descent(m, features, targets, w,b):\n",
    "\n",
    "    a = 0.01\n",
    "    max_iterations = 1000\n",
    "    tolerance = 1e-6\n",
    "    \n",
    "    for _ in range(max_iterations):\n",
    "\n",
    "        temp_w = w - a*partial_deriv_w(m, features, targets, w , b)\n",
    "        temp_b = b - a*partial_deriv_b(m, features, targets, w, b)\n",
    "        \n",
    "        if abs(temp_w - w) < tolerance or abs(temp_b - b) < tolerance:\n",
    "            break\n",
    "        \n",
    "        w = temp_w\n",
    "        b = temp_b\n",
    "    \n",
    "    return w, b\n",
    "\n",
    "def partial_deriv_w(m, features, targets, w, b):\n",
    "\n",
    "    sum = 0.0\n",
    "    \n",
    "    for i in range(m):\n",
    "        sum += ((w*features[i] + b)-targets[i])*features[i]\n",
    "\n",
    "    return float(sum/m)\n",
    "\n",
    "def partial_deriv_b(m, features, targets, w, b):\n",
    "\n",
    "    sum = 0.0\n",
    "\n",
    "    for i in range(m):\n",
    "        sum += ((w*features[i] + b)-targets[i])\n",
    "\n",
    "    return float(sum/m)\n",
    "\n",
    "main()"
   ]
  },
  {
   "cell_type": "markdown",
   "id": "5a063a63-7955-4bb5-bd1a-35fd11725818",
   "metadata": {},
   "source": [
    "### Polynomial Regression"
   ]
  },
  {
   "cell_type": "markdown",
   "id": "ceedbca8-141f-4ea0-bb84-21b216a1a957",
   "metadata": {},
   "source": [
    "#### Polynomial Regression from Scratch using Gradient Descent and Kaggle Dataset"
   ]
  },
  {
   "cell_type": "code",
   "execution_count": 25,
   "id": "b169c133-ce2d-4980-8d70-dea5333cbdcd",
   "metadata": {},
   "outputs": [
    {
     "data": {
      "image/png": "[encoded data removed]",
      "text/plain": [
       "<Figure size 640x480 with 1 Axes>"
      ]
     },
     "metadata": {},
     "output_type": "display_data"
    }
   ],
   "source": [
    "import pandas as pd \n",
    "import matplotlib.pyplot as plt\n",
    "\n",
    "w = 0.0\n",
    "w1 = 0.0\n",
    "b = 0.0\n",
    "#wx^2 + w_1x + b\n",
    "\n",
    "def main():\n",
    "\n",
    "    df = pd.read_csv(r\"C:\\Users\\Krishiv\\Documents\\GitHub\\Jupyter_2\\poly_icecream_data.csv\")\n",
    "\n",
    "    features = list(df[\"Temperature (°C)\"])\n",
    "    targets = list(df[\"Ice Cream Sales (units)\"])\n",
    "\n",
    "    m = len(features)\n",
    "\n",
    "    gradient_descent(features, targets, m)\n",
    "\n",
    "    y_hat = list(map(mapper, features))\n",
    "\n",
    "    plt.scatter(features, targets)\n",
    "    plt.plot(features, y_hat)\n",
    "    plt.show()\n",
    "\n",
    "def mapper(x):\n",
    "    return (w*(x**2) + w1*x + b)\n",
    "\n",
    "def gradient_descent(x, y, m, a = 0.01, max_iter = 1000, tolerance = 1e-6):\n",
    "    \n",
    "    global w\n",
    "    global w1\n",
    "    global b\n",
    "    \n",
    "    for _ in range(max_iter):\n",
    "\n",
    "        temp_w = w - a*partial_deriv_w(x, y, m)\n",
    "        temp_w1 = w1 - a*partial_deriv_w1(x, y, m)\n",
    "        temp_b = b - a*partial_deriv_b(x, y, m)\n",
    "\n",
    "        if abs(temp_w - w) < tolerance and abs(temp_w1 - w1) < tolerance and abs(temp_b - b) < tolerance:\n",
    "            break\n",
    "        \n",
    "        w = temp_w\n",
    "        w1 = temp_w1\n",
    "        b = temp_b\n",
    "\n",
    "def partial_deriv_w(x, y, m):\n",
    "\n",
    "    sum = 0.0\n",
    "    \n",
    "    for i in range(m):\n",
    "        sum += (((w*(x[i]**2) + w1*x[i] + b) - y[i])*(x[i]**2))\n",
    "\n",
    "    return sum/m\n",
    "\n",
    "def partial_deriv_w1(x, y, m):\n",
    "\n",
    "    sum = 0.0\n",
    "    \n",
    "    for i in range(m):\n",
    "        sum += (((w*(x[i]**2) + w1*x[i] + b) - y[i])*x[i])\n",
    "\n",
    "    return sum/m\n",
    "\n",
    "def partial_deriv_b(x, y, m):\n",
    "\n",
    "    sum = 0.0\n",
    "    \n",
    "    for i in range(m):\n",
    "        sum += ((w*(x[i]**2) + w1*x[i] + b) - y[i])\n",
    "\n",
    "    return sum/m\n",
    "\n",
    "\n",
    "main()\n",
    "    "
   ]
  },
  {
   "cell_type": "code",
   "execution_count": 3,
   "id": "1f0ab84d-57cd-42c6-af32-4fbad1f14943",
   "metadata": {},
   "outputs": [
    {
     "data": {
      "image/png": "[encoded data removed]",
      "text/plain": [
       "<Figure size 432x288 with 1 Axes>"
      ]
     },
     "metadata": {
      "needs_background": "light"
     },
     "output_type": "display_data"
    }
   ],
   "source": [
    "import matplotlib.pyplot as plt\n",
    "\n",
    "x = [1,2,3,5,6,7,8,9,10,12,13,14,15,16,18,19,21,22]\n",
    "y = [100,90,80,60,60,55,60,65,70,70,75,76,78,79,90,99,99,100]\n",
    "#imported datasets which have a polynomial relation for example sake\n",
    "\n",
    "plt.scatter(x,y)\n",
    "plt.show()"
   ]
  },
  {
   "cell_type": "markdown",
   "id": "a492eb82-aa19-4ea3-8c24-6a4867637ed7",
   "metadata": {},
   "source": [
    "#### Constructing a Polynomial Function and Graphing it in Python"
   ]
  },
  {
   "cell_type": "code",
   "execution_count": 5,
   "id": "6ddcd8a2-4588-4faa-9d50-9f87e5e0f116",
   "metadata": {},
   "outputs": [
    {
     "data": {
      "image/png": "[encoded data removed]",
      "text/plain": [
       "<Figure size 432x288 with 1 Axes>"
      ]
     },
     "metadata": {
      "needs_background": "light"
     },
     "output_type": "display_data"
    }
   ],
   "source": [
    "x = [1,2,3,5,6,7,8,9,10,12,13,14,15,16,18,19,21,22]\n",
    "y = [100,90,80,60,60,55,60,65,70,70,75,76,78,79,90,99,99,100]\n",
    "#same dataset as above\n",
    "\n",
    "coefficients = numpy.polyfit(x,y, 6)\n",
    "#numpy.polyfit will use a vandermonde matrix to calculate the coefficients of a 4th degree polynomail as specified above by the number 4\n",
    "#It will return a list of coefficients. The length of the list will always be 1 more than the degree specified due to x^0\n",
    "\n",
    "polynomial = numpy.poly1d(coefficients, r=False)\n",
    "#numpy.poly1d will construct a one dimensional polynomial given a list of coefficients. \n",
    "#Each coefficient will be matched to x^d descending so the the last term in the list of cofficients will be matched with x^0 power\n",
    "#And the first term will be matched to x^d power\n",
    "#numpy.poly1d returns a polynomial object which represents the function f(x)\n",
    "#polynomial(2) would be the same as passing in f(2) into a function\n",
    "\n",
    "plt.plot(x, polynomial(x))\n",
    "plt.show()"
   ]
  },
  {
   "cell_type": "markdown",
   "id": "610fad6e-c837-4697-a7fc-5894251f473a",
   "metadata": {},
   "source": [
    "<p>As shown above, the graph is not smooth, but this can be fixed.</p>"
   ]
  },
  {
   "cell_type": "code",
   "execution_count": 32,
   "id": "91e3ef0d-e5b0-4925-9533-896e58ac9aca",
   "metadata": {},
   "outputs": [
    {
     "data": {
      "image/png": "[encoded data removed]",
      "text/plain": [
       "<Figure size 432x288 with 1 Axes>"
      ]
     },
     "metadata": {
      "needs_background": "light"
     },
     "output_type": "display_data"
    }
   ],
   "source": [
    "x = [1,2,3,5,6,7,8,9,10,12,13,14,15,16,18,19,21,22]\n",
    "y = [100,90,80,60,60,55,60,65,70,70,75,76,78,79,90,99,99,100]\n",
    "\n",
    "polynomial = numpy.poly1d(numpy.polyfit(x,y,4), r=False)\n",
    "#the higher the power of the polynomial, the more accurately it will predict the future result as it will more accurately represent the given dataset\n",
    "\n",
    "x_int_smooth = numpy.linspace(1, 22, 1000)\n",
    "#numpy.linspace is a function that will create a list of evenly spaced number of the specified length between lower and upper bounds.\n",
    "#the lower bound is 1 and the upper is 22 in this case so from x=1 to x=22, a list of 1000 evenly spaced numbers are generated. \n",
    "\"\"\"this is extremely useful since x is the independent variable so once you determine the polynomial that corresponds with the set, \n",
    "you can just create a bunch of evenly spaced numbers between the domain for the independent variable, x in this case\"\"\"\n",
    "\n",
    "plt.plot(x_int_smooth, polynomial(x_int_smooth))\n",
    "\"\"\"Here, instead of using the original list of given independent variable values given, which is only 22 and thus creates a choppy graph, \n",
    "we use the linspace list which have 1000 values of x which creates a really smooth graph. \n",
    "We then pass that smooth list into the polynomial since that is a function of the data used to predict the future values\"\"\"\n",
    "\n",
    "plt.scatter(x,y)\n",
    "#over the polynomial over the scatter plot to show the polynomial regression relationship\n",
    "plt.show()"
   ]
  },
  {
   "cell_type": "markdown",
   "id": "19344170-3b5a-4b82-971e-4746fecb364c",
   "metadata": {},
   "source": [
    "#### Derivatives and Integrals of Polynomials"
   ]
  },
  {
   "cell_type": "code",
   "execution_count": 16,
   "id": "39a05b93-ac04-486d-8098-c5d36cbc608b",
   "metadata": {},
   "outputs": [
    {
     "name": "stdout",
     "output_type": "stream",
     "text": [
      "   3     2\n",
      "1 x + 1 x + 1 x + 1\n",
      "\n",
      "   2\n",
      "3 x + 2 x + 1\n",
      "\n",
      "      4          3       2\n",
      "0.25 x + 0.3333 x + 0.5 x + 1 x + 1\n"
     ]
    }
   ],
   "source": [
    "p1 = numpy.poly1d([1,1,1,1], r=False)\n",
    "#Creates a 3rd degree polynomial with 4 coefficients: x^3 + x^2 + x + 1\n",
    "\n",
    "p2 = numpy.polyder(p1, m=1)\n",
    "#polyder takes the derivative of p1 and the second parameter specifies the degree of the derivative\n",
    "#in this case, it takes the 3rd order derivative of p1\n",
    "\n",
    "p3 = numpy.polyint(p1, m=1, k=[1])\n",
    "#polyint takes the integral of p1 and the 2nd paramter represents the order of the antiderivative function. \n",
    "#If you want to integrate a function multiple times, set m = # of times you want to integrate it\n",
    "#k represents the constants of integration that arise when taking the antiderivative of a number\n",
    "\"\"\"When we take the antiderivative of a number, that antiderivative itself is not unique to that function and any function can have\n",
    "an infinite number of antiderivatives which are only uniqe to the function given a constant C. k represents a list of constants the length of which\n",
    "should correspond to the value of m as there if no need to provide more constants than the number of times you take the antiderivative. \n",
    "\n",
    "C is the value of the initial condition of the antiderivative function given the original polynomial. If you are integrating a velocity function \n",
    "to find the position function, then the initial condition would be p(#) = # representing the original position of the antiderivative function \n",
    "which is position in this case.\"\"\"\n",
    "\n",
    "print(p1)\n",
    "print()\n",
    "print(p2)\n",
    "print()\n",
    "print(p3)"
   ]
  },
  {
   "cell_type": "markdown",
   "id": "1409008f-89ab-42e3-a27c-5941b58b4a70",
   "metadata": {},
   "source": [
    "### Multiple Regression"
   ]
  },
  {
   "cell_type": "markdown",
   "id": "81430aad-a5e5-47b0-b57e-1e153cf24649",
   "metadata": {
    "jp-MarkdownHeadingCollapsed": true
   },
   "source": [
    "## Classification "
   ]
  },
  {
   "cell_type": "markdown",
   "id": "56c8b139-fd64-41af-bdf2-ea3a2c34afd0",
   "metadata": {
    "jp-MarkdownHeadingCollapsed": true
   },
   "source": [
    "> - Classification is categorical relations between data and the number of outputs is restricted. With classification algorithms, a certain amount of input/s are given and the output is limited to a set number of categories provided by the user. The output must be one of those categories, nothing else. This differs from regression which can have infinite possibilities for y-values. For each input/s given, the output will be one of the categories represented by a number. \n",
    "> - For multiple inputs, they can be graphed on x and y axis as inputs and the output can be represented by a shape that corresponds with the category it represents. \n",
    "> - These algorithms are used to predict the classification of something when the number of possible outputs are known and a number of inputs are given. \n",
    "> - For example, for a classification algorithm that classifies whether a tumor is benign or malignant, a given number of inputs such as patent’s age, tumor size, cell uniformity, etc are given to the ML model and it is asked to used these values and previous classifications that are known/correct to now help diagnose whether the tumor is benign or malignant. \n",
    "> - All in all, just know that within supervised learning, where known outputs for a given set of inputs are given to a ML model so it can predict future outputs, if the possible number of outputs is limited, it is a classification algorithm. "
   ]
  },
  {
   "cell_type": "markdown",
   "id": "ddbf042a-3097-45bb-8631-0bc2ccc0c1c8",
   "metadata": {
    "jp-MarkdownHeadingCollapsed": true
   },
   "source": [
    "# Unsupervised Learning"
   ]
  },
  {
   "cell_type": "markdown",
   "id": "275f9989-64bc-4176-8319-47c44bfcd19e",
   "metadata": {},
   "source": [
    ">Unsupervised learning refers to giving data to a computer and asking it to find patterns within that data without any specifications for what patterns it should look for. "
   ]
  },
  {
   "cell_type": "markdown",
   "id": "35540e7e-d676-4429-ba63-1fd065062f82",
   "metadata": {},
   "source": [
    "## Clustering"
   ]
  },
  {
   "cell_type": "markdown",
   "id": "1a14d7f5-8f7b-49c7-bd1a-87b7c2d150ef",
   "metadata": {},
   "source": [
    ">- Given a dataset to a ML model, unsupervised clustering refers to the computer finding interesting patterns within the data and grouping it into clusters. \n",
    ">- Essentially, unsupervised learning looks at a dataset and makes clusters or groups of give data points that have similarities to one another\n",
    ">- Ex: Google news uses clustering to group together articles that share keywords and that changes everyday. The algorithm is given data in the form of millions of articles and is tasked with clustering the articles based on their similarities and if there are articles that are popular, it will display them first on the google news tab."
   ]
  },
  {
   "cell_type": "markdown",
   "id": "6856bfd0-0307-4469-be5a-582c1dcb9fb8",
   "metadata": {},
   "source": [
    "## Anomaly Detection"
   ]
  },
  {
   "cell_type": "markdown",
   "id": "432e51d1-1984-492a-82c0-19e5c615a563",
   "metadata": {},
   "source": [
    "> Where data is given to a ML model and it is tasked with detecting any anomalies within the patterns associated with the data. If a clear pattern is established and the model detects that something is amiss with the pattern, it is an anomaly. Used for fraud detection. "
   ]
  },
  {
   "cell_type": "markdown",
   "id": "d1ed2623-8bb1-41a6-8ba2-fd807cc87cf9",
   "metadata": {
    "jp-MarkdownHeadingCollapsed": true
   },
   "source": [
    "## Dimensional Reduction"
   ]
  },
  {
   "cell_type": "markdown",
   "id": "0982a2e7-1438-46ef-b3df-c42648836de2",
   "metadata": {},
   "source": [
    ">Given a large dataset, a ML model is able to reduce it into a much smaller data set while retaining the overall structure and relations. "
   ]
  }
 ],
 "metadata": {
  "kernelspec": {
   "display_name": "Python 3 (ipykernel)",
   "language": "python",
   "name": "python3"
  },
  "language_info": {
   "codemirror_mode": {
    "name": "ipython",
    "version": 3
   },
   "file_extension": ".py",
   "mimetype": "text/x-python",
   "name": "python",
   "nbconvert_exporter": "python",
   "pygments_lexer": "ipython3",
   "version": "3.13.5"
  }
 },
 "nbformat": 4,
 "nbformat_minor": 5
}
