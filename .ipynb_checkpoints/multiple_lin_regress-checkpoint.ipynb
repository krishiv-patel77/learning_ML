{
 "cells": [
  {
   "cell_type": "code",
   "execution_count": 2,
   "id": "13119612-df56-4dce-bf38-26c2b9e734ee",
   "metadata": {},
   "outputs": [],
   "source": [
    "import pandas as pd\n",
    "import numpy as np\n",
    "import matplotlib.pyplot as plt\n",
    "import copy\n",
    "import math\n",
    "import sklearn"
   ]
  },
  {
   "cell_type": "code",
   "execution_count": 3,
   "id": "713da062-452b-4ed9-8475-9d94c26ed7bb",
   "metadata": {},
   "outputs": [],
   "source": [
    "df = pd.read_csv(\"datasets/Student_Performance.csv\")\n",
    "\n",
    "# Clean the data\n",
    "Y = df[\"Performance Index\"]\n",
    "X = df.drop(columns=[\"Performance Index\"])\n",
    "X[\"Extracurricular Activities\"] = X[\"Extracurricular Activities\"].map({\"Yes\": 1, \"No\": 0})\n",
    "\n",
    "# Normalize all features\n",
    "X = (X - X.mean())/X.std()\n",
    "X = X.values\n",
    "Y = Y.values"
   ]
  },
  {
   "cell_type": "code",
   "execution_count": 4,
   "id": "930c3eb3-9f1b-4a3d-a582-e107510d98d5",
   "metadata": {},
   "outputs": [
    {
     "data": {
      "text/plain": [
       "array([[ 0.77514895,  1.70409044,  1.01040412,  1.45613179, -1.24969145],\n",
       "       [-0.38346141,  0.72387648, -0.98960404, -1.49221962, -0.9009371 ],\n",
       "       [ 1.16135241, -1.06357251,  1.01040412,  0.27679123, -0.9009371 ],\n",
       "       ...,\n",
       "       [ 0.3889455 ,  0.78153612,  1.01040412,  0.86646151,  0.14532594],\n",
       "       [ 1.54755586,  1.58877115,  1.01040412,  0.27679123, -1.5984458 ],\n",
       "       [ 0.77514895,  0.26259932, -0.98960404,  0.86646151, -1.24969145]],\n",
       "      shape=(10000, 5))"
      ]
     },
     "execution_count": 4,
     "metadata": {},
     "output_type": "execute_result"
    }
   ],
   "source": [
    "X"
   ]
  },
  {
   "cell_type": "code",
   "execution_count": 5,
   "id": "578b602c-6888-4a9a-9da1-1ee0232a8e8e",
   "metadata": {},
   "outputs": [
    {
     "data": {
      "text/plain": [
       "array([91., 65., 45., ..., 74., 95., 64.], shape=(10000,))"
      ]
     },
     "execution_count": 5,
     "metadata": {},
     "output_type": "execute_result"
    }
   ],
   "source": [
    "Y"
   ]
  },
  {
   "cell_type": "code",
   "execution_count": 6,
   "id": "2941199f-5da2-4acf-a10d-be34852ade07",
   "metadata": {},
   "outputs": [],
   "source": [
    "def compute_cost(X, Y, w, b):\n",
    "\n",
    "    m,n = X.shape\n",
    "    cost = 0.0\n",
    "\n",
    "    for i in range(m):\n",
    "        cost += ((np.dot(w,X[i]) + b) - Y[i])**2\n",
    "\n",
    "    return cost/(2*m)\n",
    "\n",
    "def compute_gradient(X, Y, w, b):\n",
    "\n",
    "    m,n = X.shape\n",
    "    dj_dw = np.zeros(n)\n",
    "    dj_db = 0.0\n",
    "\n",
    "    for i in range(m):\n",
    "        error = (np.dot(w, X[i]) + b) - Y[i]\n",
    "        dj_dw += error * X[i]\n",
    "        dj_db += error\n",
    "\n",
    "    dj_dw = dj_dw/m\n",
    "    dj_db = dj_db/m\n",
    "\n",
    "    return dj_dw, dj_db\n",
    "\n",
    "def gradient_descent(X, Y, w_in, b_in, alpha, num_iters):\n",
    "\n",
    "    J_history = []\n",
    "    w = copy.deepcopy(w_in)\n",
    "    b = copy.deepcopy(b_in)\n",
    "\n",
    "    for i in range(num_iters):\n",
    "\n",
    "        dj_dw, dj_db = compute_gradient(X, Y, w, b)\n",
    "\n",
    "        # Update all parameters\n",
    "        w = w - alpha*dj_dw\n",
    "        b = b - alpha*dj_db\n",
    "\n",
    "        # Compute cost\n",
    "        if i < 100000:\n",
    "            J_history.append(compute_cost(X,Y,w,b))\n",
    "\n",
    "        if i % (math.ceil(num_iters/10)) == 0:\n",
    "            print(f\"Iteration: {i:4d} | Cost: {J_history[-1]}\")\n",
    "    \n",
    "    return w, b, J_history"
   ]
  },
  {
   "cell_type": "code",
   "execution_count": 7,
   "id": "e75b60e4-6c77-4e93-80de-e986cdd75c78",
   "metadata": {},
   "outputs": [
    {
     "name": "stdout",
     "output_type": "stream",
     "text": [
      "Iteration:    0 | Cost: 1706.0215084026452\n",
      "Iteration: 1000 | Cost: 232.81103486754643\n",
      "Iteration: 2000 | Cost: 33.32614971678544\n",
      "Iteration: 3000 | Cost: 6.3090414311588034\n",
      "Iteration: 4000 | Cost: 2.649269335479664\n",
      "Iteration: 5000 | Cost: 2.1534101982269123\n",
      "Iteration: 6000 | Cost: 2.0862124614331456\n",
      "Iteration: 7000 | Cost: 2.077103976968746\n",
      "Iteration: 8000 | Cost: 2.0758690649764495\n",
      "Iteration: 9000 | Cost: 2.0757015985606246\n"
     ]
    }
   ],
   "source": [
    "# Initialize the parameters\n",
    "m,n = X.shape\n",
    "w = np.zeros(n)\n",
    "b = 0.0\n",
    "alpha = 0.001\n",
    "num_iters = 10000\n",
    "\n",
    "w,b, J_history = gradient_descent(X, Y, w, b, alpha, num_iters)"
   ]
  },
  {
   "cell_type": "code",
   "execution_count": 9,
   "id": "494bd7f0-3e36-4c16-bafb-d83cf1e76855",
   "metadata": {},
   "outputs": [
    {
     "data": {
      "text/plain": [
       "np.float64(2.0756788900564214)"
      ]
     },
     "execution_count": 9,
     "metadata": {},
     "output_type": "execute_result"
    }
   ],
   "source": [
    "# Final cost\n",
    "J_history[-1]"
   ]
  },
  {
   "cell_type": "code",
   "execution_count": 10,
   "id": "35437d0d-81e4-40cf-88b0-f4dc3c083fac",
   "metadata": {},
   "outputs": [
    {
     "data": {
      "text/plain": [
       "array([ 7.38680795, 17.66200818,  0.30651024,  0.81498441,  0.55580262])"
      ]
     },
     "execution_count": 10,
     "metadata": {},
     "output_type": "execute_result"
    }
   ],
   "source": [
    "w"
   ]
  },
  {
   "cell_type": "code",
   "execution_count": 11,
   "id": "02899437-b509-4d2a-a5cb-c3f37543a546",
   "metadata": {},
   "outputs": [
    {
     "data": {
      "text/plain": [
       "np.float64(55.22230531100317)"
      ]
     },
     "execution_count": 11,
     "metadata": {},
     "output_type": "execute_result"
    }
   ],
   "source": [
    "b"
   ]
  },
  {
   "cell_type": "code",
   "execution_count": 12,
   "id": "e8299c14-0e7e-45c6-bd7a-018a66efdebf",
   "metadata": {},
   "outputs": [
    {
     "name": "stdout",
     "output_type": "stream",
     "text": [
      "R^2: 0.9887523130162745\n"
     ]
    }
   ],
   "source": [
    "def mapper(x):\n",
    "    return np.dot(w, x) + b\n",
    "\n",
    "y_pred = np.array(list(map(mapper, X)))\n",
    "\n",
    "ss_res = np.sum((Y - y_pred)**2)              # residual sum of squares\n",
    "ss_tot = np.sum((Y - np.mean(Y))**2)          # total sum of squares\n",
    "r2 = 1 - (ss_res / ss_tot)\n",
    "\n",
    "print(\"R^2:\", r2)"
   ]
  }
 ],
 "metadata": {
  "kernelspec": {
   "display_name": "Python 3 (ipykernel)",
   "language": "python",
   "name": "python3"
  },
  "language_info": {
   "codemirror_mode": {
    "name": "ipython",
    "version": 3
   },
   "file_extension": ".py",
   "mimetype": "text/x-python",
   "name": "python",
   "nbconvert_exporter": "python",
   "pygments_lexer": "ipython3",
   "version": "3.13.5"
  }
 },
 "nbformat": 4,
 "nbformat_minor": 5
}
