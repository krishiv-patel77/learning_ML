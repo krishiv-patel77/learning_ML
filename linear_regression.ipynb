{
 "cells": [
  {
   "cell_type": "code",
   "execution_count": 12,
   "id": "fd4fffb9-d1e4-43a1-ab53-14ffe4c1894d",
   "metadata": {},
   "outputs": [],
   "source": [
    "import numpy as np\n",
    "import pandas as pd\n",
    "from scipy import stats\n",
    "import matplotlib.pyplot as plt\n",
    "import copy\n",
    "import math"
   ]
  },
  {
   "cell_type": "markdown",
   "id": "02de562b-8172-4aed-976b-bbc9d7b30158",
   "metadata": {
    "jp-MarkdownHeadingCollapsed": true
   },
   "source": [
    "# Dataset Creation"
   ]
  },
  {
   "cell_type": "code",
   "execution_count": 3,
   "id": "bda0ca6f-d364-43a6-9784-4e152b97a42b",
   "metadata": {},
   "outputs": [
    {
     "name": "stdout",
     "output_type": "stream",
     "text": [
      "          x          y\n",
      "0  0.000000   7.993428\n",
      "1  0.204082   7.233675\n",
      "2  0.408163   9.315785\n",
      "3  0.612245  11.576672\n",
      "4  0.816327   8.572510\n"
     ]
    }
   ],
   "source": [
    "np.random.seed(42)  # for reproducibility\n",
    "\n",
    "# Generate x values\n",
    "x = np.linspace(0, 10, 50)\n",
    "# Generate y = slope * x + intercept + noise\n",
    "slope = 2.5\n",
    "intercept = 7\n",
    "noise = np.random.normal(0, 2, size=len(x))  # mean=0, std=2\n",
    "y = slope * x + intercept + noise\n",
    "\n",
    "# Put into a DataFrame\n",
    "data = pd.DataFrame({\"x\": x, \"y\": y})\n",
    "print(data.head())"
   ]
  },
  {
   "cell_type": "markdown",
   "id": "b80732a5-2981-4f91-83c2-47ed1b78b687",
   "metadata": {
    "jp-MarkdownHeadingCollapsed": true
   },
   "source": [
    "# Linear Regression Using Scipy"
   ]
  },
  {
   "cell_type": "code",
   "execution_count": 74,
   "id": "aa3d4685-8de8-4773-b5be-238165cd7483",
   "metadata": {},
   "outputs": [
    {
     "data": {
      "image/png": "[encoded data removed]",
      "text/plain": [
       "<Figure size 640x480 with 1 Axes>"
      ]
     },
     "metadata": {},
     "output_type": "display_data"
    }
   ],
   "source": [
    "# Plot the Dataset\n",
    "plt.scatter(x,y)\n",
    "plt.show()"
   ]
  },
  {
   "cell_type": "code",
   "execution_count": 75,
   "id": "937ed77a-1567-4e98-8c38-a75b13c4ed4f",
   "metadata": {},
   "outputs": [
    {
     "name": "stdout",
     "output_type": "stream",
     "text": [
      "0.9681158299456506\n"
     ]
    },
    {
     "data": {
      "image/png": "[encoded data removed]",
      "text/plain": [
       "<Figure size 640x480 with 1 Axes>"
      ]
     },
     "metadata": {},
     "output_type": "display_data"
    }
   ],
   "source": [
    "slope, intercept, r, p, str_err = stats.linregress(x,y)\n",
    "\n",
    "def mapper(x):\n",
    "    return slope*x + intercept\n",
    "\n",
    "\n",
    "y_linear = list(map(mapper,x))\n",
    "\n",
    "plt.scatter(x,y)\n",
    "plt.plot(x, y_linear, color='r')\n",
    "print(r)"
   ]
  },
  {
   "cell_type": "code",
   "execution_count": 76,
   "id": "0ce0d288-4840-4aa3-b286-7b8fecf9e34e",
   "metadata": {},
   "outputs": [
    {
     "data": {
      "text/plain": [
       "np.float64(2.384033201016355)"
      ]
     },
     "execution_count": 76,
     "metadata": {},
     "output_type": "execute_result"
    }
   ],
   "source": [
    "slope"
   ]
  },
  {
   "cell_type": "code",
   "execution_count": 77,
   "id": "3c4efce3-4646-44b1-a7df-17e064ff258f",
   "metadata": {},
   "outputs": [
    {
     "data": {
      "text/plain": [
       "np.float64(7.128886184405946)"
      ]
     },
     "execution_count": 77,
     "metadata": {},
     "output_type": "execute_result"
    }
   ],
   "source": [
    "intercept"
   ]
  },
  {
   "cell_type": "markdown",
   "id": "002fd07d-e0b4-4e39-965f-f1f4b4ac939d",
   "metadata": {
    "jp-MarkdownHeadingCollapsed": true
   },
   "source": [
    "# Linear Regression From Scratch"
   ]
  },
  {
   "cell_type": "markdown",
   "id": "9c10c2ea-60bc-4f1d-a37b-03858f227178",
   "metadata": {},
   "source": [
    "Steps:\n",
    "1. Initialize random weights\n",
    "2. For each iteration of the entire dataset, compute the cost, then calculate the partials, then update the parameters and then print the cost per iteration.\n",
    "3. Continue this for the specified number of iterations\n",
    "4. Plot everything"
   ]
  },
  {
   "cell_type": "code",
   "execution_count": 94,
   "id": "60f8e210-0edc-4a36-a013-d560e30e2e5b",
   "metadata": {},
   "outputs": [],
   "source": [
    "import math\n",
    "import copy\n",
    "\n",
    "def compute_cost(X, Y, w, b):\n",
    "\n",
    "    m = X.shape[0]\n",
    "    cost = np.zeros(1)\n",
    "\n",
    "    for i in range(m):\n",
    "        cost += (np.dot(w,X[i]) + b - Y[i])**2\n",
    "\n",
    "    cost = cost/(2*m)\n",
    "    return cost\n",
    "\n",
    "def compute_gradient(X, Y, w, b):\n",
    "\n",
    "    m = X.shape[0]\n",
    "\n",
    "    # Initialize the partials as zeros\n",
    "    dj_dw = np.zeros(1)\n",
    "    dj_db = np.zeros(1)\n",
    "    \n",
    "    for i in range(m):\n",
    "        dj_dw += ((np.dot(w,X[i]) + b) - Y[i])*X[i]\n",
    "        dj_db += ((np.dot(w,X[i]) + b) - Y[i])\n",
    "\n",
    "    dj_dw = dj_dw/m\n",
    "    dj_db = dj_db/m\n",
    "\n",
    "    return dj_dw, dj_db\n",
    "\n",
    "\n",
    "def gradient_descent(X, Y, w_in, b_in, alpha, num_iters):\n",
    "\n",
    "    J_history = []      # For storing the cost per iteration\n",
    "\n",
    "    w = copy.deepcopy(w_in)\n",
    "    b = copy.deepcopy(b_in)\n",
    "    \n",
    "    for i in range(num_iters):\n",
    "\n",
    "        # Compute the gradient\n",
    "        dj_dw, dj_db = compute_gradient(X,Y,w,b)\n",
    "\n",
    "        # Update parameters\n",
    "        w = w - alpha*dj_dw \n",
    "        b = b - alpha*dj_db\n",
    "\n",
    "        # If we have less than 100,000 iterations, append cost at each iteration to cost history \n",
    "        if i < 100000:\n",
    "            J_history.append(compute_cost(X,Y,w,b))\n",
    "\n",
    "        # First divide num_iters into 10 intervals and if 1/10 of num iters goes cleanly into i, print out latest cost\n",
    "        if i % (math.ceil(num_iters/10)) == 0:\n",
    "            print(f\"Iteration {i:4d}: Cost {J_history[-1]}   \")     # Essentially we print cost every 10% of num iters\n",
    "\n",
    "    return w, b, J_history"
   ]
  },
  {
   "cell_type": "code",
   "execution_count": 113,
   "id": "20877424-fb81-43dc-a843-99e5d9661b19",
   "metadata": {
    "scrolled": true
   },
   "outputs": [
    {
     "name": "stdout",
     "output_type": "stream",
     "text": [
      "Iteration    0: Cost [93.46922867]   \n",
      "Iteration  500: Cost [2.10139364]   \n",
      "Iteration 1000: Cost [1.68647234]   \n",
      "Iteration 1500: Cost [1.65318671]   \n",
      "Iteration 2000: Cost [1.65051648]   \n",
      "Iteration 2500: Cost [1.65030227]   \n",
      "Iteration 3000: Cost [1.65028509]   \n",
      "Iteration 3500: Cost [1.65028371]   \n",
      "Iteration 4000: Cost [1.6502836]   \n",
      "Iteration 4500: Cost [1.65028359]   \n"
     ]
    }
   ],
   "source": [
    "# Initialize the parameters\n",
    "w = 0.0\n",
    "b = 0.0\n",
    "num_iters = 5000\n",
    "X = data[\"x\"]\n",
    "Y = data[\"y\"]\n",
    "alpha = 0.01\n",
    "\n",
    "slope, intercept, J_history = gradient_descent(X, Y, w, b, alpha, num_iters)"
   ]
  },
  {
   "cell_type": "code",
   "execution_count": 114,
   "id": "d6dca550-c84a-4569-96ad-2ba7f50ac0b9",
   "metadata": {},
   "outputs": [
    {
     "data": {
      "text/plain": [
       "array([2.38403649])"
      ]
     },
     "execution_count": 114,
     "metadata": {},
     "output_type": "execute_result"
    }
   ],
   "source": [
    "slope"
   ]
  },
  {
   "cell_type": "code",
   "execution_count": 115,
   "id": "698e7896-6954-46a7-aff4-92122a97f0fc",
   "metadata": {},
   "outputs": [
    {
     "data": {
      "text/plain": [
       "array([7.12886418])"
      ]
     },
     "execution_count": 115,
     "metadata": {},
     "output_type": "execute_result"
    }
   ],
   "source": [
    "intercept"
   ]
  },
  {
   "cell_type": "code",
   "execution_count": 116,
   "id": "5f38a268-5c8f-4858-86a7-9e0c98de39cf",
   "metadata": {},
   "outputs": [
    {
     "data": {
      "text/plain": [
       "[<matplotlib.lines.Line2D at 0x124408550>]"
      ]
     },
     "execution_count": 116,
     "metadata": {},
     "output_type": "execute_result"
    },
    {
     "data": {
      "image/png": "[encoded data removed]",
      "text/plain": [
       "<Figure size 640x480 with 1 Axes>"
      ]
     },
     "metadata": {},
     "output_type": "display_data"
    }
   ],
   "source": [
    "def mapper(x):\n",
    "    return slope*x + intercept\n",
    "\n",
    "\n",
    "y_linear = list(map(mapper,x))\n",
    "\n",
    "plt.scatter(X, Y)\n",
    "plt.plot(X, y_linear)"
   ]
  },
  {
   "cell_type": "code",
   "execution_count": 121,
   "id": "aafc46df-04c0-4eba-bcde-0910f389649e",
   "metadata": {
    "scrolled": true
   },
   "outputs": [
    {
     "data": {
      "image/png": "[encoded data removed]",
      "text/plain": [
       "<Figure size 800x500 with 1 Axes>"
      ]
     },
     "metadata": {},
     "output_type": "display_data"
    }
   ],
   "source": [
    "iters = range(len(J_history))\n",
    "\n",
    "plt.figure(figsize=(8,5))  # wider figure\n",
    "\n",
    "plt.plot(iters, J_history, color=\"blue\", linewidth=2)\n",
    "\n",
    "plt.xlabel(\"Iterations\", fontsize=12)\n",
    "plt.ylabel(\"Cost (J)\", fontsize=12)\n",
    "plt.title(\"Cost vs Iterations (Gradient Descent)\", fontsize=14)\n",
    "\n",
    "plt.grid(True, linestyle=\"--\", alpha=0.6)  # light dashed grid\n",
    "plt.show()"
   ]
  },
  {
   "cell_type": "markdown",
   "id": "a99e98e6-209f-4dd0-92b7-720dd5ca67ea",
   "metadata": {},
   "source": [
    "# Multiple Linear Regression"
   ]
  },
  {
   "cell_type": "code",
   "execution_count": 4,
   "id": "96292a5a-cc02-494c-9f75-1f24ae0f4f4c",
   "metadata": {
    "scrolled": true
   },
   "outputs": [
    {
     "data": {
      "text/html": [
       "<div>\n",
       "<style scoped>\n",
       "    .dataframe tbody tr th:only-of-type {\n",
       "        vertical-align: middle;\n",
       "    }\n",
       "\n",
       "    .dataframe tbody tr th {\n",
       "        vertical-align: top;\n",
       "    }\n",
       "\n",
       "    .dataframe thead th {\n",
       "        text-align: right;\n",
       "    }\n",
       "</style>\n",
       "<table border=\"1\" class=\"dataframe\">\n",
       "  <thead>\n",
       "    <tr style=\"text-align: right;\">\n",
       "      <th></th>\n",
       "      <th>Hours Studied</th>\n",
       "      <th>Previous Scores</th>\n",
       "      <th>Extracurricular Activities</th>\n",
       "      <th>Sleep Hours</th>\n",
       "      <th>Sample Question Papers Practiced</th>\n",
       "      <th>Performance Index</th>\n",
       "    </tr>\n",
       "  </thead>\n",
       "  <tbody>\n",
       "    <tr>\n",
       "      <th>0</th>\n",
       "      <td>7</td>\n",
       "      <td>99</td>\n",
       "      <td>Yes</td>\n",
       "      <td>9</td>\n",
       "      <td>1</td>\n",
       "      <td>91.0</td>\n",
       "    </tr>\n",
       "    <tr>\n",
       "      <th>1</th>\n",
       "      <td>4</td>\n",
       "      <td>82</td>\n",
       "      <td>No</td>\n",
       "      <td>4</td>\n",
       "      <td>2</td>\n",
       "      <td>65.0</td>\n",
       "    </tr>\n",
       "    <tr>\n",
       "      <th>2</th>\n",
       "      <td>8</td>\n",
       "      <td>51</td>\n",
       "      <td>Yes</td>\n",
       "      <td>7</td>\n",
       "      <td>2</td>\n",
       "      <td>45.0</td>\n",
       "    </tr>\n",
       "    <tr>\n",
       "      <th>3</th>\n",
       "      <td>5</td>\n",
       "      <td>52</td>\n",
       "      <td>Yes</td>\n",
       "      <td>5</td>\n",
       "      <td>2</td>\n",
       "      <td>36.0</td>\n",
       "    </tr>\n",
       "    <tr>\n",
       "      <th>4</th>\n",
       "      <td>7</td>\n",
       "      <td>75</td>\n",
       "      <td>No</td>\n",
       "      <td>8</td>\n",
       "      <td>5</td>\n",
       "      <td>66.0</td>\n",
       "    </tr>\n",
       "    <tr>\n",
       "      <th>...</th>\n",
       "      <td>...</td>\n",
       "      <td>...</td>\n",
       "      <td>...</td>\n",
       "      <td>...</td>\n",
       "      <td>...</td>\n",
       "      <td>...</td>\n",
       "    </tr>\n",
       "    <tr>\n",
       "      <th>9995</th>\n",
       "      <td>1</td>\n",
       "      <td>49</td>\n",
       "      <td>Yes</td>\n",
       "      <td>4</td>\n",
       "      <td>2</td>\n",
       "      <td>23.0</td>\n",
       "    </tr>\n",
       "    <tr>\n",
       "      <th>9996</th>\n",
       "      <td>7</td>\n",
       "      <td>64</td>\n",
       "      <td>Yes</td>\n",
       "      <td>8</td>\n",
       "      <td>5</td>\n",
       "      <td>58.0</td>\n",
       "    </tr>\n",
       "    <tr>\n",
       "      <th>9997</th>\n",
       "      <td>6</td>\n",
       "      <td>83</td>\n",
       "      <td>Yes</td>\n",
       "      <td>8</td>\n",
       "      <td>5</td>\n",
       "      <td>74.0</td>\n",
       "    </tr>\n",
       "    <tr>\n",
       "      <th>9998</th>\n",
       "      <td>9</td>\n",
       "      <td>97</td>\n",
       "      <td>Yes</td>\n",
       "      <td>7</td>\n",
       "      <td>0</td>\n",
       "      <td>95.0</td>\n",
       "    </tr>\n",
       "    <tr>\n",
       "      <th>9999</th>\n",
       "      <td>7</td>\n",
       "      <td>74</td>\n",
       "      <td>No</td>\n",
       "      <td>8</td>\n",
       "      <td>1</td>\n",
       "      <td>64.0</td>\n",
       "    </tr>\n",
       "  </tbody>\n",
       "</table>\n",
       "<p>10000 rows × 6 columns</p>\n",
       "</div>"
      ],
      "text/plain": [
       "      Hours Studied  Previous Scores Extracurricular Activities  Sleep Hours  \\\n",
       "0                 7               99                        Yes            9   \n",
       "1                 4               82                         No            4   \n",
       "2                 8               51                        Yes            7   \n",
       "3                 5               52                        Yes            5   \n",
       "4                 7               75                         No            8   \n",
       "...             ...              ...                        ...          ...   \n",
       "9995              1               49                        Yes            4   \n",
       "9996              7               64                        Yes            8   \n",
       "9997              6               83                        Yes            8   \n",
       "9998              9               97                        Yes            7   \n",
       "9999              7               74                         No            8   \n",
       "\n",
       "      Sample Question Papers Practiced  Performance Index  \n",
       "0                                    1               91.0  \n",
       "1                                    2               65.0  \n",
       "2                                    2               45.0  \n",
       "3                                    2               36.0  \n",
       "4                                    5               66.0  \n",
       "...                                ...                ...  \n",
       "9995                                 2               23.0  \n",
       "9996                                 5               58.0  \n",
       "9997                                 5               74.0  \n",
       "9998                                 0               95.0  \n",
       "9999                                 1               64.0  \n",
       "\n",
       "[10000 rows x 6 columns]"
      ]
     },
     "execution_count": 4,
     "metadata": {},
     "output_type": "execute_result"
    }
   ],
   "source": [
    "df = pd.read_csv(\"datasets/Student_Performance.csv\")\n",
    "df"
   ]
  },
  {
   "cell_type": "code",
   "execution_count": 15,
   "id": "9f7f9d93-68db-439f-8cfe-e03b76e4ba4f",
   "metadata": {
    "scrolled": true
   },
   "outputs": [
    {
     "data": {
      "text/html": [
       "<div>\n",
       "<style scoped>\n",
       "    .dataframe tbody tr th:only-of-type {\n",
       "        vertical-align: middle;\n",
       "    }\n",
       "\n",
       "    .dataframe tbody tr th {\n",
       "        vertical-align: top;\n",
       "    }\n",
       "\n",
       "    .dataframe thead th {\n",
       "        text-align: right;\n",
       "    }\n",
       "</style>\n",
       "<table border=\"1\" class=\"dataframe\">\n",
       "  <thead>\n",
       "    <tr style=\"text-align: right;\">\n",
       "      <th></th>\n",
       "      <th>Hours Studied</th>\n",
       "      <th>Previous Scores</th>\n",
       "      <th>Extracurricular Activities</th>\n",
       "      <th>Sleep Hours</th>\n",
       "      <th>Sample Question Papers Practiced</th>\n",
       "    </tr>\n",
       "  </thead>\n",
       "  <tbody>\n",
       "    <tr>\n",
       "      <th>0</th>\n",
       "      <td>0.775149</td>\n",
       "      <td>1.704090</td>\n",
       "      <td>1.010404</td>\n",
       "      <td>1.456132</td>\n",
       "      <td>-1.249691</td>\n",
       "    </tr>\n",
       "    <tr>\n",
       "      <th>1</th>\n",
       "      <td>-0.383461</td>\n",
       "      <td>0.723876</td>\n",
       "      <td>-0.989604</td>\n",
       "      <td>-1.492220</td>\n",
       "      <td>-0.900937</td>\n",
       "    </tr>\n",
       "    <tr>\n",
       "      <th>2</th>\n",
       "      <td>1.161352</td>\n",
       "      <td>-1.063573</td>\n",
       "      <td>1.010404</td>\n",
       "      <td>0.276791</td>\n",
       "      <td>-0.900937</td>\n",
       "    </tr>\n",
       "    <tr>\n",
       "      <th>3</th>\n",
       "      <td>0.002742</td>\n",
       "      <td>-1.005913</td>\n",
       "      <td>1.010404</td>\n",
       "      <td>-0.902549</td>\n",
       "      <td>-0.900937</td>\n",
       "    </tr>\n",
       "    <tr>\n",
       "      <th>4</th>\n",
       "      <td>0.775149</td>\n",
       "      <td>0.320259</td>\n",
       "      <td>-0.989604</td>\n",
       "      <td>0.866462</td>\n",
       "      <td>0.145326</td>\n",
       "    </tr>\n",
       "    <tr>\n",
       "      <th>...</th>\n",
       "      <td>...</td>\n",
       "      <td>...</td>\n",
       "      <td>...</td>\n",
       "      <td>...</td>\n",
       "      <td>...</td>\n",
       "    </tr>\n",
       "    <tr>\n",
       "      <th>9995</th>\n",
       "      <td>-1.542072</td>\n",
       "      <td>-1.178892</td>\n",
       "      <td>1.010404</td>\n",
       "      <td>-1.492220</td>\n",
       "      <td>-0.900937</td>\n",
       "    </tr>\n",
       "    <tr>\n",
       "      <th>9996</th>\n",
       "      <td>0.775149</td>\n",
       "      <td>-0.313997</td>\n",
       "      <td>1.010404</td>\n",
       "      <td>0.866462</td>\n",
       "      <td>0.145326</td>\n",
       "    </tr>\n",
       "    <tr>\n",
       "      <th>9997</th>\n",
       "      <td>0.388945</td>\n",
       "      <td>0.781536</td>\n",
       "      <td>1.010404</td>\n",
       "      <td>0.866462</td>\n",
       "      <td>0.145326</td>\n",
       "    </tr>\n",
       "    <tr>\n",
       "      <th>9998</th>\n",
       "      <td>1.547556</td>\n",
       "      <td>1.588771</td>\n",
       "      <td>1.010404</td>\n",
       "      <td>0.276791</td>\n",
       "      <td>-1.598446</td>\n",
       "    </tr>\n",
       "    <tr>\n",
       "      <th>9999</th>\n",
       "      <td>0.775149</td>\n",
       "      <td>0.262599</td>\n",
       "      <td>-0.989604</td>\n",
       "      <td>0.866462</td>\n",
       "      <td>-1.249691</td>\n",
       "    </tr>\n",
       "  </tbody>\n",
       "</table>\n",
       "<p>10000 rows × 5 columns</p>\n",
       "</div>"
      ],
      "text/plain": [
       "      Hours Studied  Previous Scores  Extracurricular Activities  Sleep Hours  \\\n",
       "0          0.775149         1.704090                    1.010404     1.456132   \n",
       "1         -0.383461         0.723876                   -0.989604    -1.492220   \n",
       "2          1.161352        -1.063573                    1.010404     0.276791   \n",
       "3          0.002742        -1.005913                    1.010404    -0.902549   \n",
       "4          0.775149         0.320259                   -0.989604     0.866462   \n",
       "...             ...              ...                         ...          ...   \n",
       "9995      -1.542072        -1.178892                    1.010404    -1.492220   \n",
       "9996       0.775149        -0.313997                    1.010404     0.866462   \n",
       "9997       0.388945         0.781536                    1.010404     0.866462   \n",
       "9998       1.547556         1.588771                    1.010404     0.276791   \n",
       "9999       0.775149         0.262599                   -0.989604     0.866462   \n",
       "\n",
       "      Sample Question Papers Practiced  \n",
       "0                            -1.249691  \n",
       "1                            -0.900937  \n",
       "2                            -0.900937  \n",
       "3                            -0.900937  \n",
       "4                             0.145326  \n",
       "...                                ...  \n",
       "9995                         -0.900937  \n",
       "9996                          0.145326  \n",
       "9997                          0.145326  \n",
       "9998                         -1.598446  \n",
       "9999                         -1.249691  \n",
       "\n",
       "[10000 rows x 5 columns]"
      ]
     },
     "execution_count": 15,
     "metadata": {},
     "output_type": "execute_result"
    }
   ],
   "source": [
    "# Clean the data\n",
    "Y = df[\"Performance Index\"]\n",
    "X = df.drop(columns=[\"Performance Index\"])\n",
    "X[\"Extracurricular Activities\"] = X[\"Extracurricular Activities\"].map({\"Yes\": 1, \"No\": 0})\n",
    "\n",
    "# Normalize all features\n",
    "X = (X - X.mean())/X.std()\n",
    "X"
   ]
  },
  {
   "cell_type": "code",
   "execution_count": 22,
   "id": "4645e264-b5f0-47ea-8651-42a58bdd0ace",
   "metadata": {},
   "outputs": [
    {
     "ename": "ModuleNotFoundError",
     "evalue": "No module named 'sklearn.utils._metadata_requests'",
     "output_type": "error",
     "traceback": [
      "\u001b[31m---------------------------------------------------------------------------\u001b[39m",
      "\u001b[31mModuleNotFoundError\u001b[39m                       Traceback (most recent call last)",
      "\u001b[36mCell\u001b[39m\u001b[36m \u001b[39m\u001b[32mIn[22]\u001b[39m\u001b[32m, line 1\u001b[39m\n\u001b[32m----> \u001b[39m\u001b[32m1\u001b[39m \u001b[38;5;28;01mfrom\u001b[39;00m\u001b[38;5;250m \u001b[39m\u001b[34;01msklearn\u001b[39;00m\u001b[34;01m.\u001b[39;00m\u001b[34;01mlinear_model\u001b[39;00m\u001b[38;5;250m \u001b[39m\u001b[38;5;28;01mimport\u001b[39;00m LinearRegression\n",
      "\u001b[36mFile \u001b[39m\u001b[32m~/Documents/GitHub/machine_learning/venv/lib/python3.13/site-packages/sklearn/__init__.py:73\u001b[39m\n\u001b[32m     62\u001b[39m \u001b[38;5;66;03m# `_distributor_init` allows distributors to run custom init code.\u001b[39;00m\n\u001b[32m     63\u001b[39m \u001b[38;5;66;03m# For instance, for the Windows wheel, this is used to pre-load the\u001b[39;00m\n\u001b[32m     64\u001b[39m \u001b[38;5;66;03m# vcomp shared library runtime for OpenMP embedded in the sklearn/.libs\u001b[39;00m\n\u001b[32m   (...)\u001b[39m\u001b[32m     67\u001b[39m \u001b[38;5;66;03m# later is linked to the OpenMP runtime to make it possible to introspect\u001b[39;00m\n\u001b[32m     68\u001b[39m \u001b[38;5;66;03m# it and importing it first would fail if the OpenMP dll cannot be found.\u001b[39;00m\n\u001b[32m     69\u001b[39m \u001b[38;5;28;01mfrom\u001b[39;00m\u001b[38;5;250m \u001b[39m\u001b[34;01m.\u001b[39;00m\u001b[38;5;250m \u001b[39m\u001b[38;5;28;01mimport\u001b[39;00m (  \u001b[38;5;66;03m# noqa: F401 E402\u001b[39;00m\n\u001b[32m     70\u001b[39m     __check_build,\n\u001b[32m     71\u001b[39m     _distributor_init,\n\u001b[32m     72\u001b[39m )\n\u001b[32m---> \u001b[39m\u001b[32m73\u001b[39m \u001b[38;5;28;01mfrom\u001b[39;00m\u001b[38;5;250m \u001b[39m\u001b[34;01m.\u001b[39;00m\u001b[34;01mbase\u001b[39;00m\u001b[38;5;250m \u001b[39m\u001b[38;5;28;01mimport\u001b[39;00m clone  \u001b[38;5;66;03m# noqa: E402\u001b[39;00m\n\u001b[32m     74\u001b[39m \u001b[38;5;28;01mfrom\u001b[39;00m\u001b[38;5;250m \u001b[39m\u001b[34;01m.\u001b[39;00m\u001b[34;01mutils\u001b[39;00m\u001b[34;01m.\u001b[39;00m\u001b[34;01m_show_versions\u001b[39;00m\u001b[38;5;250m \u001b[39m\u001b[38;5;28;01mimport\u001b[39;00m show_versions  \u001b[38;5;66;03m# noqa: E402\u001b[39;00m\n\u001b[32m     76\u001b[39m _submodules = [\n\u001b[32m     77\u001b[39m     \u001b[33m\"\u001b[39m\u001b[33mcalibration\u001b[39m\u001b[33m\"\u001b[39m,\n\u001b[32m     78\u001b[39m     \u001b[33m\"\u001b[39m\u001b[33mcluster\u001b[39m\u001b[33m\"\u001b[39m,\n\u001b[32m   (...)\u001b[39m\u001b[32m    114\u001b[39m     \u001b[33m\"\u001b[39m\u001b[33mcompose\u001b[39m\u001b[33m\"\u001b[39m,\n\u001b[32m    115\u001b[39m ]\n",
      "\u001b[36mFile \u001b[39m\u001b[32m~/Documents/GitHub/machine_learning/venv/lib/python3.13/site-packages/sklearn/base.py:19\u001b[39m\n\u001b[32m     17\u001b[39m \u001b[38;5;28;01mfrom\u001b[39;00m\u001b[38;5;250m \u001b[39m\u001b[34;01m.\u001b[39;00m\u001b[34;01m_config\u001b[39;00m\u001b[38;5;250m \u001b[39m\u001b[38;5;28;01mimport\u001b[39;00m config_context, get_config\n\u001b[32m     18\u001b[39m \u001b[38;5;28;01mfrom\u001b[39;00m\u001b[38;5;250m \u001b[39m\u001b[34;01m.\u001b[39;00m\u001b[34;01mexceptions\u001b[39;00m\u001b[38;5;250m \u001b[39m\u001b[38;5;28;01mimport\u001b[39;00m InconsistentVersionWarning\n\u001b[32m---> \u001b[39m\u001b[32m19\u001b[39m \u001b[38;5;28;01mfrom\u001b[39;00m\u001b[38;5;250m \u001b[39m\u001b[34;01m.\u001b[39;00m\u001b[34;01mutils\u001b[39;00m\u001b[34;01m.\u001b[39;00m\u001b[34;01m_metadata_requests\u001b[39;00m\u001b[38;5;250m \u001b[39m\u001b[38;5;28;01mimport\u001b[39;00m _MetadataRequester, _routing_enabled\n\u001b[32m     20\u001b[39m \u001b[38;5;28;01mfrom\u001b[39;00m\u001b[38;5;250m \u001b[39m\u001b[34;01m.\u001b[39;00m\u001b[34;01mutils\u001b[39;00m\u001b[34;01m.\u001b[39;00m\u001b[34;01m_missing\u001b[39;00m\u001b[38;5;250m \u001b[39m\u001b[38;5;28;01mimport\u001b[39;00m is_scalar_nan\n\u001b[32m     21\u001b[39m \u001b[38;5;28;01mfrom\u001b[39;00m\u001b[38;5;250m \u001b[39m\u001b[34;01m.\u001b[39;00m\u001b[34;01mutils\u001b[39;00m\u001b[34;01m.\u001b[39;00m\u001b[34;01m_param_validation\u001b[39;00m\u001b[38;5;250m \u001b[39m\u001b[38;5;28;01mimport\u001b[39;00m validate_parameter_constraints\n",
      "\u001b[31mModuleNotFoundError\u001b[39m: No module named 'sklearn.utils._metadata_requests'"
     ]
    }
   ],
   "source": [
    "from sklearn.linear_model import LinearRegression"
   ]
  },
  {
   "cell_type": "code",
   "execution_count": 23,
   "id": "d5199a43-39b4-47fe-b10b-4f8a15cf7fea",
   "metadata": {},
   "outputs": [
    {
     "ename": "NameError",
     "evalue": "name 'LinearRegression' is not defined",
     "output_type": "error",
     "traceback": [
      "\u001b[31m---------------------------------------------------------------------------\u001b[39m",
      "\u001b[31mNameError\u001b[39m                                 Traceback (most recent call last)",
      "\u001b[36mCell\u001b[39m\u001b[36m \u001b[39m\u001b[32mIn[23]\u001b[39m\u001b[32m, line 2\u001b[39m\n\u001b[32m      1\u001b[39m \u001b[38;5;66;03m# Fit model\u001b[39;00m\n\u001b[32m----> \u001b[39m\u001b[32m2\u001b[39m model = \u001b[43mLinearRegression\u001b[49m()\n\u001b[32m      3\u001b[39m model.fit(X, Y)\n\u001b[32m      5\u001b[39m \u001b[38;5;66;03m# Coefficients\u001b[39;00m\n",
      "\u001b[31mNameError\u001b[39m: name 'LinearRegression' is not defined"
     ]
    }
   ],
   "source": [
    "# Fit model\n",
    "model = LinearRegression()\n",
    "model.fit(X, Y)\n",
    "\n",
    "# Coefficients\n",
    "print(\"Intercept:\", model.intercept_)\n",
    "print(\"Slopes:\", model.coef_)\n",
    "\n",
    "# Predictions\n",
    "y_pred = model.predict(X)\n",
    "\n",
    "# R² score\n",
    "print(\"R^2 score:\", model.score(X, y))"
   ]
  },
  {
   "cell_type": "code",
   "execution_count": null,
   "id": "482b505a-527f-4a92-b6a1-c25d3493c06d",
   "metadata": {},
   "outputs": [],
   "source": []
  }
 ],
 "metadata": {
  "kernelspec": {
   "display_name": "Python 3 (ipykernel)",
   "language": "python",
   "name": "python3"
  },
  "language_info": {
   "codemirror_mode": {
    "name": "ipython",
    "version": 3
   },
   "file_extension": ".py",
   "mimetype": "text/x-python",
   "name": "python",
   "nbconvert_exporter": "python",
   "pygments_lexer": "ipython3",
   "version": "3.13.5"
  }
 },
 "nbformat": 4,
 "nbformat_minor": 5
}
